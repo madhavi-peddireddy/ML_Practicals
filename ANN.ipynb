{
 "cells": [
  {
   "cell_type": "code",
   "execution_count": 1,
   "id": "6d7fc212",
   "metadata": {},
   "outputs": [
    {
     "name": "stdout",
     "output_type": "stream",
     "text": [
      "2.13.0\n"
     ]
    }
   ],
   "source": [
    "import tensorflow as tf\n",
    "print(tf.__version__)\n"
   ]
  },
  {
   "cell_type": "code",
   "execution_count": 2,
   "id": "ce7c4b01",
   "metadata": {},
   "outputs": [],
   "source": [
    "import numpy as np\n",
    "import pandas as pd\n",
    "import matplotlib.pyplot as plt"
   ]
  },
  {
   "cell_type": "code",
   "execution_count": 3,
   "id": "15408505",
   "metadata": {},
   "outputs": [
    {
     "data": {
      "text/html": [
       "<div>\n",
       "<style scoped>\n",
       "    .dataframe tbody tr th:only-of-type {\n",
       "        vertical-align: middle;\n",
       "    }\n",
       "\n",
       "    .dataframe tbody tr th {\n",
       "        vertical-align: top;\n",
       "    }\n",
       "\n",
       "    .dataframe thead th {\n",
       "        text-align: right;\n",
       "    }\n",
       "</style>\n",
       "<table border=\"1\" class=\"dataframe\">\n",
       "  <thead>\n",
       "    <tr style=\"text-align: right;\">\n",
       "      <th></th>\n",
       "      <th>RowNumber</th>\n",
       "      <th>CustomerId</th>\n",
       "      <th>Surname</th>\n",
       "      <th>CreditScore</th>\n",
       "      <th>Geography</th>\n",
       "      <th>Gender</th>\n",
       "      <th>Age</th>\n",
       "      <th>Tenure</th>\n",
       "      <th>Balance</th>\n",
       "      <th>NumOfProducts</th>\n",
       "      <th>HasCrCard</th>\n",
       "      <th>IsActiveMember</th>\n",
       "      <th>EstimatedSalary</th>\n",
       "      <th>Exited</th>\n",
       "    </tr>\n",
       "  </thead>\n",
       "  <tbody>\n",
       "    <tr>\n",
       "      <th>0</th>\n",
       "      <td>1</td>\n",
       "      <td>15634602</td>\n",
       "      <td>Hargrave</td>\n",
       "      <td>619</td>\n",
       "      <td>France</td>\n",
       "      <td>Female</td>\n",
       "      <td>42</td>\n",
       "      <td>2</td>\n",
       "      <td>0.00</td>\n",
       "      <td>1</td>\n",
       "      <td>1</td>\n",
       "      <td>1</td>\n",
       "      <td>101348.88</td>\n",
       "      <td>1</td>\n",
       "    </tr>\n",
       "    <tr>\n",
       "      <th>1</th>\n",
       "      <td>2</td>\n",
       "      <td>15647311</td>\n",
       "      <td>Hill</td>\n",
       "      <td>608</td>\n",
       "      <td>Spain</td>\n",
       "      <td>Female</td>\n",
       "      <td>41</td>\n",
       "      <td>1</td>\n",
       "      <td>83807.86</td>\n",
       "      <td>1</td>\n",
       "      <td>0</td>\n",
       "      <td>1</td>\n",
       "      <td>112542.58</td>\n",
       "      <td>0</td>\n",
       "    </tr>\n",
       "    <tr>\n",
       "      <th>2</th>\n",
       "      <td>3</td>\n",
       "      <td>15619304</td>\n",
       "      <td>Onio</td>\n",
       "      <td>502</td>\n",
       "      <td>France</td>\n",
       "      <td>Female</td>\n",
       "      <td>42</td>\n",
       "      <td>8</td>\n",
       "      <td>159660.80</td>\n",
       "      <td>3</td>\n",
       "      <td>1</td>\n",
       "      <td>0</td>\n",
       "      <td>113931.57</td>\n",
       "      <td>1</td>\n",
       "    </tr>\n",
       "    <tr>\n",
       "      <th>3</th>\n",
       "      <td>4</td>\n",
       "      <td>15701354</td>\n",
       "      <td>Boni</td>\n",
       "      <td>699</td>\n",
       "      <td>France</td>\n",
       "      <td>Female</td>\n",
       "      <td>39</td>\n",
       "      <td>1</td>\n",
       "      <td>0.00</td>\n",
       "      <td>2</td>\n",
       "      <td>0</td>\n",
       "      <td>0</td>\n",
       "      <td>93826.63</td>\n",
       "      <td>0</td>\n",
       "    </tr>\n",
       "    <tr>\n",
       "      <th>4</th>\n",
       "      <td>5</td>\n",
       "      <td>15737888</td>\n",
       "      <td>Mitchell</td>\n",
       "      <td>850</td>\n",
       "      <td>Spain</td>\n",
       "      <td>Female</td>\n",
       "      <td>43</td>\n",
       "      <td>2</td>\n",
       "      <td>125510.82</td>\n",
       "      <td>1</td>\n",
       "      <td>1</td>\n",
       "      <td>1</td>\n",
       "      <td>79084.10</td>\n",
       "      <td>0</td>\n",
       "    </tr>\n",
       "  </tbody>\n",
       "</table>\n",
       "</div>"
      ],
      "text/plain": [
       "   RowNumber  CustomerId   Surname  CreditScore Geography  Gender  Age  \\\n",
       "0          1    15634602  Hargrave          619    France  Female   42   \n",
       "1          2    15647311      Hill          608     Spain  Female   41   \n",
       "2          3    15619304      Onio          502    France  Female   42   \n",
       "3          4    15701354      Boni          699    France  Female   39   \n",
       "4          5    15737888  Mitchell          850     Spain  Female   43   \n",
       "\n",
       "   Tenure    Balance  NumOfProducts  HasCrCard  IsActiveMember  \\\n",
       "0       2       0.00              1          1               1   \n",
       "1       1   83807.86              1          0               1   \n",
       "2       8  159660.80              3          1               0   \n",
       "3       1       0.00              2          0               0   \n",
       "4       2  125510.82              1          1               1   \n",
       "\n",
       "   EstimatedSalary  Exited  \n",
       "0        101348.88       1  \n",
       "1        112542.58       0  \n",
       "2        113931.57       1  \n",
       "3         93826.63       0  \n",
       "4         79084.10       0  "
      ]
     },
     "execution_count": 3,
     "metadata": {},
     "output_type": "execute_result"
    }
   ],
   "source": [
    "#Load dataset\n",
    "data=pd.read_csv('Churn_Modelling.csv')\n",
    "data.head()"
   ]
  },
  {
   "cell_type": "code",
   "execution_count": 4,
   "id": "b0f0c994",
   "metadata": {},
   "outputs": [
    {
     "data": {
      "text/html": [
       "<div>\n",
       "<style scoped>\n",
       "    .dataframe tbody tr th:only-of-type {\n",
       "        vertical-align: middle;\n",
       "    }\n",
       "\n",
       "    .dataframe tbody tr th {\n",
       "        vertical-align: top;\n",
       "    }\n",
       "\n",
       "    .dataframe thead th {\n",
       "        text-align: right;\n",
       "    }\n",
       "</style>\n",
       "<table border=\"1\" class=\"dataframe\">\n",
       "  <thead>\n",
       "    <tr style=\"text-align: right;\">\n",
       "      <th></th>\n",
       "      <th>CreditScore</th>\n",
       "      <th>Geography</th>\n",
       "      <th>Gender</th>\n",
       "      <th>Age</th>\n",
       "      <th>Tenure</th>\n",
       "      <th>Balance</th>\n",
       "      <th>NumOfProducts</th>\n",
       "      <th>HasCrCard</th>\n",
       "      <th>IsActiveMember</th>\n",
       "      <th>EstimatedSalary</th>\n",
       "    </tr>\n",
       "  </thead>\n",
       "  <tbody>\n",
       "    <tr>\n",
       "      <th>0</th>\n",
       "      <td>619</td>\n",
       "      <td>France</td>\n",
       "      <td>Female</td>\n",
       "      <td>42</td>\n",
       "      <td>2</td>\n",
       "      <td>0.00</td>\n",
       "      <td>1</td>\n",
       "      <td>1</td>\n",
       "      <td>1</td>\n",
       "      <td>101348.88</td>\n",
       "    </tr>\n",
       "    <tr>\n",
       "      <th>1</th>\n",
       "      <td>608</td>\n",
       "      <td>Spain</td>\n",
       "      <td>Female</td>\n",
       "      <td>41</td>\n",
       "      <td>1</td>\n",
       "      <td>83807.86</td>\n",
       "      <td>1</td>\n",
       "      <td>0</td>\n",
       "      <td>1</td>\n",
       "      <td>112542.58</td>\n",
       "    </tr>\n",
       "    <tr>\n",
       "      <th>2</th>\n",
       "      <td>502</td>\n",
       "      <td>France</td>\n",
       "      <td>Female</td>\n",
       "      <td>42</td>\n",
       "      <td>8</td>\n",
       "      <td>159660.80</td>\n",
       "      <td>3</td>\n",
       "      <td>1</td>\n",
       "      <td>0</td>\n",
       "      <td>113931.57</td>\n",
       "    </tr>\n",
       "    <tr>\n",
       "      <th>3</th>\n",
       "      <td>699</td>\n",
       "      <td>France</td>\n",
       "      <td>Female</td>\n",
       "      <td>39</td>\n",
       "      <td>1</td>\n",
       "      <td>0.00</td>\n",
       "      <td>2</td>\n",
       "      <td>0</td>\n",
       "      <td>0</td>\n",
       "      <td>93826.63</td>\n",
       "    </tr>\n",
       "    <tr>\n",
       "      <th>4</th>\n",
       "      <td>850</td>\n",
       "      <td>Spain</td>\n",
       "      <td>Female</td>\n",
       "      <td>43</td>\n",
       "      <td>2</td>\n",
       "      <td>125510.82</td>\n",
       "      <td>1</td>\n",
       "      <td>1</td>\n",
       "      <td>1</td>\n",
       "      <td>79084.10</td>\n",
       "    </tr>\n",
       "  </tbody>\n",
       "</table>\n",
       "</div>"
      ],
      "text/plain": [
       "   CreditScore Geography  Gender  Age  Tenure    Balance  NumOfProducts  \\\n",
       "0          619    France  Female   42       2       0.00              1   \n",
       "1          608     Spain  Female   41       1   83807.86              1   \n",
       "2          502    France  Female   42       8  159660.80              3   \n",
       "3          699    France  Female   39       1       0.00              2   \n",
       "4          850     Spain  Female   43       2  125510.82              1   \n",
       "\n",
       "   HasCrCard  IsActiveMember  EstimatedSalary  \n",
       "0          1               1        101348.88  \n",
       "1          0               1        112542.58  \n",
       "2          1               0        113931.57  \n",
       "3          0               0         93826.63  \n",
       "4          1               1         79084.10  "
      ]
     },
     "execution_count": 4,
     "metadata": {},
     "output_type": "execute_result"
    }
   ],
   "source": [
    "#Independent and Dependent Features\n",
    "\n",
    "X=data.iloc[:,3:13]\n",
    "y=data.iloc[:,13]\n",
    "X.head()\n"
   ]
  },
  {
   "cell_type": "code",
   "execution_count": 5,
   "id": "ddc9d58e",
   "metadata": {},
   "outputs": [
    {
     "data": {
      "text/plain": [
       "0       1\n",
       "1       0\n",
       "2       1\n",
       "3       0\n",
       "4       0\n",
       "       ..\n",
       "9995    0\n",
       "9996    0\n",
       "9997    1\n",
       "9998    1\n",
       "9999    0\n",
       "Name: Exited, Length: 10000, dtype: int64"
      ]
     },
     "execution_count": 5,
     "metadata": {},
     "output_type": "execute_result"
    }
   ],
   "source": [
    "y"
   ]
  },
  {
   "cell_type": "code",
   "execution_count": 6,
   "id": "fc5f6ca6",
   "metadata": {},
   "outputs": [],
   "source": [
    "geography=pd.get_dummies(X['Geography'],drop_first=True)\n",
    "gender=pd.get_dummies(X['Gender'],drop_first=True)"
   ]
  },
  {
   "cell_type": "code",
   "execution_count": 7,
   "id": "36a30a67",
   "metadata": {},
   "outputs": [],
   "source": [
    "X=X.drop(['Geography','Gender'], axis=1)"
   ]
  },
  {
   "cell_type": "code",
   "execution_count": 8,
   "id": "696b26e7",
   "metadata": {},
   "outputs": [],
   "source": [
    "X=pd.concat([X,geography,gender],axis=1)\n"
   ]
  },
  {
   "cell_type": "code",
   "execution_count": 9,
   "id": "6a361a38",
   "metadata": {},
   "outputs": [
    {
     "data": {
      "text/html": [
       "<div>\n",
       "<style scoped>\n",
       "    .dataframe tbody tr th:only-of-type {\n",
       "        vertical-align: middle;\n",
       "    }\n",
       "\n",
       "    .dataframe tbody tr th {\n",
       "        vertical-align: top;\n",
       "    }\n",
       "\n",
       "    .dataframe thead th {\n",
       "        text-align: right;\n",
       "    }\n",
       "</style>\n",
       "<table border=\"1\" class=\"dataframe\">\n",
       "  <thead>\n",
       "    <tr style=\"text-align: right;\">\n",
       "      <th></th>\n",
       "      <th>CreditScore</th>\n",
       "      <th>Age</th>\n",
       "      <th>Tenure</th>\n",
       "      <th>Balance</th>\n",
       "      <th>NumOfProducts</th>\n",
       "      <th>HasCrCard</th>\n",
       "      <th>IsActiveMember</th>\n",
       "      <th>EstimatedSalary</th>\n",
       "      <th>Germany</th>\n",
       "      <th>Spain</th>\n",
       "      <th>Male</th>\n",
       "    </tr>\n",
       "  </thead>\n",
       "  <tbody>\n",
       "    <tr>\n",
       "      <th>0</th>\n",
       "      <td>619</td>\n",
       "      <td>42</td>\n",
       "      <td>2</td>\n",
       "      <td>0.00</td>\n",
       "      <td>1</td>\n",
       "      <td>1</td>\n",
       "      <td>1</td>\n",
       "      <td>101348.88</td>\n",
       "      <td>0</td>\n",
       "      <td>0</td>\n",
       "      <td>0</td>\n",
       "    </tr>\n",
       "    <tr>\n",
       "      <th>1</th>\n",
       "      <td>608</td>\n",
       "      <td>41</td>\n",
       "      <td>1</td>\n",
       "      <td>83807.86</td>\n",
       "      <td>1</td>\n",
       "      <td>0</td>\n",
       "      <td>1</td>\n",
       "      <td>112542.58</td>\n",
       "      <td>0</td>\n",
       "      <td>1</td>\n",
       "      <td>0</td>\n",
       "    </tr>\n",
       "    <tr>\n",
       "      <th>2</th>\n",
       "      <td>502</td>\n",
       "      <td>42</td>\n",
       "      <td>8</td>\n",
       "      <td>159660.80</td>\n",
       "      <td>3</td>\n",
       "      <td>1</td>\n",
       "      <td>0</td>\n",
       "      <td>113931.57</td>\n",
       "      <td>0</td>\n",
       "      <td>0</td>\n",
       "      <td>0</td>\n",
       "    </tr>\n",
       "    <tr>\n",
       "      <th>3</th>\n",
       "      <td>699</td>\n",
       "      <td>39</td>\n",
       "      <td>1</td>\n",
       "      <td>0.00</td>\n",
       "      <td>2</td>\n",
       "      <td>0</td>\n",
       "      <td>0</td>\n",
       "      <td>93826.63</td>\n",
       "      <td>0</td>\n",
       "      <td>0</td>\n",
       "      <td>0</td>\n",
       "    </tr>\n",
       "    <tr>\n",
       "      <th>4</th>\n",
       "      <td>850</td>\n",
       "      <td>43</td>\n",
       "      <td>2</td>\n",
       "      <td>125510.82</td>\n",
       "      <td>1</td>\n",
       "      <td>1</td>\n",
       "      <td>1</td>\n",
       "      <td>79084.10</td>\n",
       "      <td>0</td>\n",
       "      <td>1</td>\n",
       "      <td>0</td>\n",
       "    </tr>\n",
       "  </tbody>\n",
       "</table>\n",
       "</div>"
      ],
      "text/plain": [
       "   CreditScore  Age  Tenure    Balance  NumOfProducts  HasCrCard  \\\n",
       "0          619   42       2       0.00              1          1   \n",
       "1          608   41       1   83807.86              1          0   \n",
       "2          502   42       8  159660.80              3          1   \n",
       "3          699   39       1       0.00              2          0   \n",
       "4          850   43       2  125510.82              1          1   \n",
       "\n",
       "   IsActiveMember  EstimatedSalary  Germany  Spain  Male  \n",
       "0               1        101348.88        0      0     0  \n",
       "1               1        112542.58        0      1     0  \n",
       "2               0        113931.57        0      0     0  \n",
       "3               0         93826.63        0      0     0  \n",
       "4               1         79084.10        0      1     0  "
      ]
     },
     "execution_count": 9,
     "metadata": {},
     "output_type": "execute_result"
    }
   ],
   "source": [
    "X.head()"
   ]
  },
  {
   "cell_type": "code",
   "execution_count": 10,
   "id": "fb0f6973",
   "metadata": {},
   "outputs": [
    {
     "data": {
      "text/plain": [
       "(10000, 11)"
      ]
     },
     "execution_count": 10,
     "metadata": {},
     "output_type": "execute_result"
    }
   ],
   "source": [
    "X.shape"
   ]
  },
  {
   "cell_type": "code",
   "execution_count": 11,
   "id": "b0143317",
   "metadata": {},
   "outputs": [],
   "source": [
    "#Splitting the dataset into train and test data\n",
    "\n",
    "from sklearn.model_selection import train_test_split\n",
    "X_train, X_test, y_train, y_test=train_test_split(X,y,test_size=0.2, random_state=0)"
   ]
  },
  {
   "cell_type": "code",
   "execution_count": 12,
   "id": "a3601785",
   "metadata": {},
   "outputs": [],
   "source": [
    "#Feature Scaling\n",
    "from sklearn.preprocessing import StandardScaler"
   ]
  },
  {
   "cell_type": "code",
   "execution_count": 13,
   "id": "08cfbdf8",
   "metadata": {},
   "outputs": [],
   "source": [
    "sc=StandardScaler()"
   ]
  },
  {
   "cell_type": "code",
   "execution_count": 14,
   "id": "2a978b61",
   "metadata": {},
   "outputs": [],
   "source": [
    "X_train=sc.fit_transform(X_train)\n",
    "X_test=sc.transform(X_test)"
   ]
  },
  {
   "cell_type": "code",
   "execution_count": 15,
   "id": "6b52060e",
   "metadata": {},
   "outputs": [
    {
     "data": {
      "text/plain": [
       "(8000, 11)"
      ]
     },
     "execution_count": 15,
     "metadata": {},
     "output_type": "execute_result"
    }
   ],
   "source": [
    "X_train.shape"
   ]
  },
  {
   "cell_type": "code",
   "execution_count": 16,
   "id": "c3f43cc8",
   "metadata": {},
   "outputs": [
    {
     "data": {
      "text/plain": [
       "array([[ 0.16958176, -0.46460796,  0.00666099, ..., -0.5698444 ,\n",
       "         1.74309049, -1.09168714],\n",
       "       [-2.30455945,  0.30102557, -1.37744033, ...,  1.75486502,\n",
       "        -0.57369368,  0.91601335],\n",
       "       [-1.19119591, -0.94312892, -1.031415  , ..., -0.5698444 ,\n",
       "        -0.57369368, -1.09168714],\n",
       "       ...,\n",
       "       [ 0.9015152 , -0.36890377,  0.00666099, ..., -0.5698444 ,\n",
       "        -0.57369368,  0.91601335],\n",
       "       [-0.62420521, -0.08179119,  1.39076231, ..., -0.5698444 ,\n",
       "         1.74309049, -1.09168714],\n",
       "       [-0.28401079,  0.87525072, -1.37744033, ...,  1.75486502,\n",
       "        -0.57369368, -1.09168714]])"
      ]
     },
     "execution_count": 16,
     "metadata": {},
     "output_type": "execute_result"
    }
   ],
   "source": [
    "X_train"
   ]
  },
  {
   "cell_type": "code",
   "execution_count": 17,
   "id": "2d90415b",
   "metadata": {},
   "outputs": [],
   "source": [
    "from tensorflow.keras.models import Sequential\n",
    "from tensorflow.keras.layers import Dense\n",
    "from tensorflow.keras.layers import LeakyReLU, PReLU, ELU, ReLU"
   ]
  },
  {
   "cell_type": "code",
   "execution_count": 18,
   "id": "9d61cef2",
   "metadata": {},
   "outputs": [],
   "source": [
    "from tensorflow.keras.layers import Dropout"
   ]
  },
  {
   "cell_type": "code",
   "execution_count": 19,
   "id": "c1d79fe7",
   "metadata": {},
   "outputs": [],
   "source": [
    "#Let initialize the ANN\n",
    "\n",
    "classifier=Sequential()"
   ]
  },
  {
   "cell_type": "code",
   "execution_count": 20,
   "id": "6d11aa73",
   "metadata": {},
   "outputs": [],
   "source": [
    "#Adding the input layer\n",
    "classifier.add(Dense(units=11, activation='relu'))"
   ]
  },
  {
   "cell_type": "code",
   "execution_count": 21,
   "id": "f834e4b6",
   "metadata": {},
   "outputs": [],
   "source": [
    "#Adding the first hidden layer\n",
    "classifier.add(Dense(units=7, activation='relu'))\n",
    "classifier.add(Dropout(0.2))"
   ]
  },
  {
   "cell_type": "code",
   "execution_count": 22,
   "id": "529b82c6",
   "metadata": {},
   "outputs": [],
   "source": [
    "#Adding th second hidden layer\n",
    "classifier.add(Dense(units=6, activation='relu'))\n",
    "classifier.add(Dropout(0.2))"
   ]
  },
  {
   "cell_type": "code",
   "execution_count": 23,
   "id": "7f79745f",
   "metadata": {},
   "outputs": [],
   "source": [
    "#Adding th Output layer\n",
    "classifier.add(Dense(1, activation='sigmoid'))\n"
   ]
  },
  {
   "cell_type": "code",
   "execution_count": 24,
   "id": "16f79b55",
   "metadata": {},
   "outputs": [],
   "source": [
    "classifier.compile(optimizer='adam',loss='binary_crossentropy',metrics=['accuracy'])\n"
   ]
  },
  {
   "cell_type": "code",
   "execution_count": 25,
   "id": "cff904ce",
   "metadata": {},
   "outputs": [],
   "source": [
    "#opt=tf.keras.optimizers.Adam(learning_rate=0.01)"
   ]
  },
  {
   "cell_type": "code",
   "execution_count": 26,
   "id": "6226eb9f",
   "metadata": {},
   "outputs": [],
   "source": [
    "#Early Stopping\n",
    "early_stopping=tf.keras.callbacks.EarlyStopping(\n",
    "    monitor=\"val_loss\",\n",
    "    min_delta=0.0001,\n",
    "    patience=20,\n",
    "    verbose=1,\n",
    "    mode=\"auto\",\n",
    "    baseline=None,\n",
    "    restore_best_weights=False,\n",
    "    #start_from_epoch=0,\n",
    ")"
   ]
  },
  {
   "cell_type": "code",
   "execution_count": 27,
   "id": "a0b31cca",
   "metadata": {},
   "outputs": [
    {
     "name": "stdout",
     "output_type": "stream",
     "text": [
      "Epoch 1/100\n",
      "560/560 [==============================] - 5s 4ms/step - loss: 0.5681 - accuracy: 0.7312 - val_loss: 0.4697 - val_accuracy: 0.7975\n",
      "Epoch 2/100\n",
      "560/560 [==============================] - 2s 3ms/step - loss: 0.4764 - accuracy: 0.8025 - val_loss: 0.4482 - val_accuracy: 0.8046\n",
      "Epoch 3/100\n",
      "560/560 [==============================] - 2s 3ms/step - loss: 0.4517 - accuracy: 0.8109 - val_loss: 0.4390 - val_accuracy: 0.8075\n",
      "Epoch 4/100\n",
      "560/560 [==============================] - 2s 3ms/step - loss: 0.4437 - accuracy: 0.8177 - val_loss: 0.4337 - val_accuracy: 0.8112\n",
      "Epoch 5/100\n",
      "560/560 [==============================] - 2s 3ms/step - loss: 0.4399 - accuracy: 0.8168 - val_loss: 0.4299 - val_accuracy: 0.8150\n",
      "Epoch 6/100\n",
      "560/560 [==============================] - 2s 3ms/step - loss: 0.4251 - accuracy: 0.8205 - val_loss: 0.4228 - val_accuracy: 0.8179\n",
      "Epoch 7/100\n",
      "560/560 [==============================] - 2s 3ms/step - loss: 0.4233 - accuracy: 0.8211 - val_loss: 0.4172 - val_accuracy: 0.8188\n",
      "Epoch 8/100\n",
      "560/560 [==============================] - 2s 3ms/step - loss: 0.4138 - accuracy: 0.8275 - val_loss: 0.4067 - val_accuracy: 0.8263\n",
      "Epoch 9/100\n",
      "560/560 [==============================] - 2s 3ms/step - loss: 0.4075 - accuracy: 0.8354 - val_loss: 0.3962 - val_accuracy: 0.8363\n",
      "Epoch 10/100\n",
      "560/560 [==============================] - 2s 3ms/step - loss: 0.3888 - accuracy: 0.8418 - val_loss: 0.3885 - val_accuracy: 0.8400\n",
      "Epoch 11/100\n",
      "560/560 [==============================] - 2s 4ms/step - loss: 0.3862 - accuracy: 0.8429 - val_loss: 0.3821 - val_accuracy: 0.8413\n",
      "Epoch 12/100\n",
      "560/560 [==============================] - 2s 4ms/step - loss: 0.3782 - accuracy: 0.8429 - val_loss: 0.3785 - val_accuracy: 0.8425\n",
      "Epoch 13/100\n",
      "560/560 [==============================] - 2s 4ms/step - loss: 0.3805 - accuracy: 0.8464 - val_loss: 0.3746 - val_accuracy: 0.8454\n",
      "Epoch 14/100\n",
      "560/560 [==============================] - 2s 4ms/step - loss: 0.3714 - accuracy: 0.8475 - val_loss: 0.3743 - val_accuracy: 0.8408\n",
      "Epoch 15/100\n",
      "560/560 [==============================] - 2s 4ms/step - loss: 0.3690 - accuracy: 0.8479 - val_loss: 0.3709 - val_accuracy: 0.8458\n",
      "Epoch 16/100\n",
      "560/560 [==============================] - 2s 3ms/step - loss: 0.3693 - accuracy: 0.8470 - val_loss: 0.3685 - val_accuracy: 0.8475\n",
      "Epoch 17/100\n",
      "560/560 [==============================] - 2s 4ms/step - loss: 0.3622 - accuracy: 0.8534 - val_loss: 0.3716 - val_accuracy: 0.8454\n",
      "Epoch 18/100\n",
      "560/560 [==============================] - 2s 3ms/step - loss: 0.3625 - accuracy: 0.8546 - val_loss: 0.3701 - val_accuracy: 0.8458\n",
      "Epoch 19/100\n",
      "560/560 [==============================] - 2s 3ms/step - loss: 0.3600 - accuracy: 0.8514 - val_loss: 0.3663 - val_accuracy: 0.8462\n",
      "Epoch 20/100\n",
      "560/560 [==============================] - 2s 3ms/step - loss: 0.3613 - accuracy: 0.8518 - val_loss: 0.3672 - val_accuracy: 0.8492\n",
      "Epoch 21/100\n",
      "560/560 [==============================] - 2s 4ms/step - loss: 0.3640 - accuracy: 0.8496 - val_loss: 0.3707 - val_accuracy: 0.8467\n",
      "Epoch 22/100\n",
      "560/560 [==============================] - 2s 4ms/step - loss: 0.3601 - accuracy: 0.8512 - val_loss: 0.3671 - val_accuracy: 0.8462\n",
      "Epoch 23/100\n",
      "560/560 [==============================] - 2s 4ms/step - loss: 0.3568 - accuracy: 0.8521 - val_loss: 0.3652 - val_accuracy: 0.8475\n",
      "Epoch 24/100\n",
      "560/560 [==============================] - 2s 4ms/step - loss: 0.3631 - accuracy: 0.8500 - val_loss: 0.3679 - val_accuracy: 0.8462\n",
      "Epoch 25/100\n",
      "560/560 [==============================] - 2s 4ms/step - loss: 0.3561 - accuracy: 0.8545 - val_loss: 0.3657 - val_accuracy: 0.8479\n",
      "Epoch 26/100\n",
      "560/560 [==============================] - 2s 3ms/step - loss: 0.3585 - accuracy: 0.8502 - val_loss: 0.3637 - val_accuracy: 0.8475\n",
      "Epoch 27/100\n",
      "560/560 [==============================] - 2s 3ms/step - loss: 0.3588 - accuracy: 0.8525 - val_loss: 0.3642 - val_accuracy: 0.8467\n",
      "Epoch 28/100\n",
      "560/560 [==============================] - 2s 4ms/step - loss: 0.3569 - accuracy: 0.8543 - val_loss: 0.3659 - val_accuracy: 0.8487\n",
      "Epoch 29/100\n",
      "560/560 [==============================] - 2s 4ms/step - loss: 0.3622 - accuracy: 0.8482 - val_loss: 0.3634 - val_accuracy: 0.8467\n",
      "Epoch 30/100\n",
      "560/560 [==============================] - 2s 4ms/step - loss: 0.3539 - accuracy: 0.8521 - val_loss: 0.3618 - val_accuracy: 0.8475\n",
      "Epoch 31/100\n",
      "560/560 [==============================] - 2s 4ms/step - loss: 0.3530 - accuracy: 0.8525 - val_loss: 0.3652 - val_accuracy: 0.8450\n",
      "Epoch 32/100\n",
      "560/560 [==============================] - 2s 4ms/step - loss: 0.3476 - accuracy: 0.8550 - val_loss: 0.3637 - val_accuracy: 0.8462\n",
      "Epoch 33/100\n",
      "560/560 [==============================] - 2s 4ms/step - loss: 0.3550 - accuracy: 0.8520 - val_loss: 0.3619 - val_accuracy: 0.8471\n",
      "Epoch 34/100\n",
      "560/560 [==============================] - 2s 4ms/step - loss: 0.3503 - accuracy: 0.8555 - val_loss: 0.3623 - val_accuracy: 0.8487\n",
      "Epoch 35/100\n",
      "560/560 [==============================] - 2s 4ms/step - loss: 0.3469 - accuracy: 0.8573 - val_loss: 0.3629 - val_accuracy: 0.8450\n",
      "Epoch 36/100\n",
      "560/560 [==============================] - 2s 3ms/step - loss: 0.3510 - accuracy: 0.8529 - val_loss: 0.3629 - val_accuracy: 0.8479\n",
      "Epoch 37/100\n",
      "560/560 [==============================] - 2s 3ms/step - loss: 0.3526 - accuracy: 0.8545 - val_loss: 0.3624 - val_accuracy: 0.8483\n",
      "Epoch 38/100\n",
      "560/560 [==============================] - 2s 3ms/step - loss: 0.3562 - accuracy: 0.8539 - val_loss: 0.3614 - val_accuracy: 0.8492\n",
      "Epoch 39/100\n",
      "560/560 [==============================] - 2s 3ms/step - loss: 0.3518 - accuracy: 0.8529 - val_loss: 0.3644 - val_accuracy: 0.8454\n",
      "Epoch 40/100\n",
      "560/560 [==============================] - 2s 3ms/step - loss: 0.3560 - accuracy: 0.8520 - val_loss: 0.3641 - val_accuracy: 0.8471\n",
      "Epoch 41/100\n",
      "560/560 [==============================] - 2s 3ms/step - loss: 0.3505 - accuracy: 0.8552 - val_loss: 0.3632 - val_accuracy: 0.8454\n",
      "Epoch 42/100\n",
      "560/560 [==============================] - 2s 3ms/step - loss: 0.3478 - accuracy: 0.8566 - val_loss: 0.3614 - val_accuracy: 0.8487\n",
      "Epoch 43/100\n",
      "560/560 [==============================] - 2s 3ms/step - loss: 0.3466 - accuracy: 0.8550 - val_loss: 0.3610 - val_accuracy: 0.8512\n",
      "Epoch 44/100\n",
      "560/560 [==============================] - 2s 3ms/step - loss: 0.3540 - accuracy: 0.8512 - val_loss: 0.3619 - val_accuracy: 0.8483\n",
      "Epoch 45/100\n",
      "560/560 [==============================] - 2s 4ms/step - loss: 0.3474 - accuracy: 0.8579 - val_loss: 0.3631 - val_accuracy: 0.8483\n",
      "Epoch 46/100\n",
      "560/560 [==============================] - 2s 4ms/step - loss: 0.3534 - accuracy: 0.8568 - val_loss: 0.3611 - val_accuracy: 0.8483\n",
      "Epoch 47/100\n",
      "560/560 [==============================] - 2s 3ms/step - loss: 0.3503 - accuracy: 0.8545 - val_loss: 0.3677 - val_accuracy: 0.8446\n",
      "Epoch 48/100\n",
      "560/560 [==============================] - 2s 3ms/step - loss: 0.3519 - accuracy: 0.8546 - val_loss: 0.3576 - val_accuracy: 0.8529\n",
      "Epoch 49/100\n",
      "560/560 [==============================] - 2s 4ms/step - loss: 0.3487 - accuracy: 0.8586 - val_loss: 0.3634 - val_accuracy: 0.8475\n",
      "Epoch 50/100\n",
      "560/560 [==============================] - 2s 4ms/step - loss: 0.3500 - accuracy: 0.8562 - val_loss: 0.3616 - val_accuracy: 0.8475\n",
      "Epoch 51/100\n",
      "560/560 [==============================] - 2s 4ms/step - loss: 0.3462 - accuracy: 0.8591 - val_loss: 0.3654 - val_accuracy: 0.8462\n",
      "Epoch 52/100\n",
      "560/560 [==============================] - 2s 4ms/step - loss: 0.3469 - accuracy: 0.8598 - val_loss: 0.3653 - val_accuracy: 0.8458\n",
      "Epoch 53/100\n",
      "560/560 [==============================] - 2s 4ms/step - loss: 0.3464 - accuracy: 0.8586 - val_loss: 0.3598 - val_accuracy: 0.8504\n",
      "Epoch 54/100\n",
      "560/560 [==============================] - 2s 4ms/step - loss: 0.3495 - accuracy: 0.8561 - val_loss: 0.3646 - val_accuracy: 0.8479\n",
      "Epoch 55/100\n",
      "560/560 [==============================] - 2s 4ms/step - loss: 0.3465 - accuracy: 0.8575 - val_loss: 0.3631 - val_accuracy: 0.8492\n",
      "Epoch 56/100\n",
      "560/560 [==============================] - 2s 4ms/step - loss: 0.3521 - accuracy: 0.8550 - val_loss: 0.3605 - val_accuracy: 0.8500\n",
      "Epoch 57/100\n",
      "560/560 [==============================] - 2s 4ms/step - loss: 0.3487 - accuracy: 0.8575 - val_loss: 0.3651 - val_accuracy: 0.8475\n"
     ]
    },
    {
     "name": "stdout",
     "output_type": "stream",
     "text": [
      "Epoch 58/100\n",
      "560/560 [==============================] - 2s 4ms/step - loss: 0.3464 - accuracy: 0.8595 - val_loss: 0.3658 - val_accuracy: 0.8450\n",
      "Epoch 59/100\n",
      "560/560 [==============================] - 2s 3ms/step - loss: 0.3497 - accuracy: 0.8562 - val_loss: 0.3670 - val_accuracy: 0.8454\n",
      "Epoch 60/100\n",
      "560/560 [==============================] - 2s 4ms/step - loss: 0.3495 - accuracy: 0.8557 - val_loss: 0.3658 - val_accuracy: 0.8446\n",
      "Epoch 61/100\n",
      "560/560 [==============================] - 2s 3ms/step - loss: 0.3476 - accuracy: 0.8575 - val_loss: 0.3628 - val_accuracy: 0.8462\n",
      "Epoch 62/100\n",
      "560/560 [==============================] - 2s 3ms/step - loss: 0.3494 - accuracy: 0.8561 - val_loss: 0.3656 - val_accuracy: 0.8450\n",
      "Epoch 63/100\n",
      "560/560 [==============================] - 2s 3ms/step - loss: 0.3511 - accuracy: 0.8520 - val_loss: 0.3625 - val_accuracy: 0.8496\n",
      "Epoch 64/100\n",
      "560/560 [==============================] - 2s 3ms/step - loss: 0.3470 - accuracy: 0.8564 - val_loss: 0.3612 - val_accuracy: 0.8471\n",
      "Epoch 65/100\n",
      "560/560 [==============================] - 2s 3ms/step - loss: 0.3437 - accuracy: 0.8570 - val_loss: 0.3616 - val_accuracy: 0.8508\n",
      "Epoch 66/100\n",
      "560/560 [==============================] - 2s 3ms/step - loss: 0.3500 - accuracy: 0.8543 - val_loss: 0.3617 - val_accuracy: 0.8496\n",
      "Epoch 67/100\n",
      "560/560 [==============================] - 2s 3ms/step - loss: 0.3447 - accuracy: 0.8593 - val_loss: 0.3619 - val_accuracy: 0.8487\n",
      "Epoch 68/100\n",
      "560/560 [==============================] - 2s 3ms/step - loss: 0.3507 - accuracy: 0.8564 - val_loss: 0.3630 - val_accuracy: 0.8475\n",
      "Epoch 68: early stopping\n"
     ]
    }
   ],
   "source": [
    "model_history=classifier.fit(X_train, y_train, validation_split=0.3, batch_size=10, epochs=100,callbacks=early_stopping)"
   ]
  },
  {
   "cell_type": "code",
   "execution_count": 28,
   "id": "f0fed601",
   "metadata": {},
   "outputs": [
    {
     "data": {
      "text/plain": [
       "dict_keys(['loss', 'accuracy', 'val_loss', 'val_accuracy'])"
      ]
     },
     "execution_count": 28,
     "metadata": {},
     "output_type": "execute_result"
    }
   ],
   "source": [
    "#Parameters that are specifically focused\n",
    "\n",
    "model_history.history.keys()\n"
   ]
  },
  {
   "cell_type": "code",
   "execution_count": 29,
   "id": "937575d2",
   "metadata": {},
   "outputs": [
    {
     "data": {
      "image/png": "[encoded data removed]",
      "text/plain": [
       "<Figure size 640x480 with 1 Axes>"
      ]
     },
     "metadata": {},
     "output_type": "display_data"
    }
   ],
   "source": [
    "#Summarize history for accuracy\n",
    "plt.plot(model_history.history['accuracy'])\n",
    "plt.plot(model_history.history['val_accuracy'])\n",
    "plt.title('modelaccuracy')\n",
    "plt.ylabel('accuracy')\n",
    "plt.xlabel('epoch')\n",
    "plt.legend(['train','test'],loc='upper left')\n",
    "plt.show()\n"
   ]
  },
  {
   "cell_type": "code",
   "execution_count": 30,
   "id": "5ead8875",
   "metadata": {},
   "outputs": [
    {
     "data": {
      "image/png": "[encoded data removed]",
      "text/plain": [
       "<Figure size 640x480 with 1 Axes>"
      ]
     },
     "metadata": {},
     "output_type": "display_data"
    }
   ],
   "source": [
    "#Summarize history for loss\n",
    "plt.plot(model_history.history['loss'])\n",
    "plt.plot(model_history.history['val_loss'])\n",
    "plt.title('model loss')\n",
    "plt.ylabel('loss')\n",
    "plt.xlabel('epoch')\n",
    "plt.legend(['train','test'],loc='upper left')\n",
    "plt.show()\n"
   ]
  },
  {
   "cell_type": "code",
   "execution_count": 31,
   "id": "4b72ee88",
   "metadata": {},
   "outputs": [
    {
     "name": "stdout",
     "output_type": "stream",
     "text": [
      "63/63 [==============================] - 0s 2ms/step\n"
     ]
    }
   ],
   "source": [
    "#Predict test set results\n",
    "y_pred=classifier.predict(X_test)\n",
    "y_pred=(y_pred>=0.5)"
   ]
  },
  {
   "cell_type": "code",
   "execution_count": 32,
   "id": "d09f50f0",
   "metadata": {},
   "outputs": [
    {
     "data": {
      "text/plain": [
       "array([[1552,   43],\n",
       "       [ 238,  167]], dtype=int64)"
      ]
     },
     "execution_count": 32,
     "metadata": {},
     "output_type": "execute_result"
    }
   ],
   "source": [
    "# Make Confusion Matrix\n",
    "\n",
    "from sklearn.metrics import confusion_matrix\n",
    "cm=confusion_matrix(y_test, y_pred)\n",
    "cm"
   ]
  },
  {
   "cell_type": "code",
   "execution_count": 33,
   "id": "e063ee27",
   "metadata": {},
   "outputs": [
    {
     "data": {
      "text/plain": [
       "0.8595"
      ]
     },
     "execution_count": 33,
     "metadata": {},
     "output_type": "execute_result"
    }
   ],
   "source": [
    "#calculate the accuracy\n",
    "\n",
    "from sklearn.metrics import accuracy_score\n",
    "score=accuracy_score(y_pred, y_test)\n",
    "score"
   ]
  },
  {
   "cell_type": "code",
   "execution_count": 34,
   "id": "40987ab8",
   "metadata": {},
   "outputs": [
    {
     "data": {
      "text/plain": [
       "[array([[-0.15227175,  0.16904059, -0.09376404, -0.11340196,  0.01708662,\n",
       "          0.21055776,  0.13479042,  0.19189116, -0.23040754, -0.14553602,\n",
       "         -0.28141856],\n",
       "        [-0.5237095 , -0.780113  ,  0.89920896, -0.31061187,  0.7966157 ,\n",
       "         -0.9080688 , -0.20639072,  0.02765022,  0.27661005, -0.48018956,\n",
       "         -0.2973097 ],\n",
       "        [-0.10707507,  0.08032746, -0.10586832, -0.06364777, -0.01610676,\n",
       "         -0.08418275, -0.15462019,  0.5546637 ,  0.3875554 , -0.08851527,\n",
       "          0.13495223],\n",
       "        [ 0.44212914, -0.14503594, -0.17575632,  0.39562136, -0.13168111,\n",
       "         -0.32086727, -0.29711035, -0.6488994 , -0.27183184, -0.08004497,\n",
       "         -0.07069658],\n",
       "        [-0.35223323,  0.04265245, -0.5950208 ,  1.0255653 , -0.05876468,\n",
       "         -0.06736083, -1.1064229 ,  0.48136365, -0.12640217,  0.02428867,\n",
       "         -0.79483396],\n",
       "        [ 0.09115832, -0.08235354,  0.07036659, -0.07826747, -0.03278389,\n",
       "         -0.10039605,  0.02129493,  0.11735441,  0.43006715, -0.13803603,\n",
       "         -0.41866964],\n",
       "        [ 0.03910114,  0.90958893, -0.6659913 , -0.20375676,  0.5350886 ,\n",
       "         -0.84028697, -0.1905971 ,  0.30318087,  0.21330124,  0.21513732,\n",
       "          0.16896698],\n",
       "        [ 0.12260273, -0.06715389, -0.25897413,  0.04359925, -0.03694722,\n",
       "         -0.11907393, -0.04022578, -0.33344632, -0.6857273 ,  0.21550252,\n",
       "          0.5275443 ],\n",
       "        [ 0.2151016 , -0.17060518,  0.33059606,  0.0826167 ,  0.2062123 ,\n",
       "         -0.01407757,  0.21142676, -0.08520212, -0.12410291,  0.02102361,\n",
       "          0.2601762 ],\n",
       "        [-0.05874349,  0.06922488,  0.20700267,  0.13144386,  0.11033092,\n",
       "         -0.1558476 , -0.06986727,  0.24247202,  0.5164336 ,  0.04348853,\n",
       "          0.02013702],\n",
       "        [-0.40201044, -0.07587332, -0.3549132 , -0.3600358 , -0.2879007 ,\n",
       "         -0.26492542, -0.32837278, -0.00147335,  0.00776769,  0.28193772,\n",
       "         -0.07192095]], dtype=float32),\n",
       " array([ 0.42195404, -0.0418972 ,  0.15897185,  0.4819067 , -0.9934232 ,\n",
       "         0.729216  ,  0.36675385,  0.07697843, -0.23592748,  0.6606142 ,\n",
       "         0.22828759], dtype=float32),\n",
       " array([[-0.32640553, -0.7782378 , -0.07880963, -0.3688575 ,  0.05713   ,\n",
       "         -0.7338864 ,  0.33166957],\n",
       "        [-0.8744505 , -0.4371746 , -0.41903484, -0.9391078 ,  0.334767  ,\n",
       "         -0.49491292,  0.08180537],\n",
       "        [ 0.12843238,  0.13387448,  0.61988133,  0.5200309 ,  0.10269385,\n",
       "          0.11721318, -0.35380614],\n",
       "        [-1.5848091 ,  0.57729465, -0.66172636, -0.19651088, -0.46302563,\n",
       "          0.74295676, -0.53017336],\n",
       "        [-0.21803339, -0.11374494, -0.7564851 , -0.9483931 ,  0.6583702 ,\n",
       "         -0.08087087, -0.24562418],\n",
       "        [-0.27413872, -0.4102391 , -0.3863734 , -0.7228125 ,  0.31477934,\n",
       "         -0.5967621 ,  0.27949   ],\n",
       "        [-0.32326508, -0.54100376,  0.2978199 ,  0.55024534, -0.6144105 ,\n",
       "         -0.9110104 , -0.85189044],\n",
       "        [-0.64575434,  0.321467  ,  0.33312088,  0.2718521 ,  0.22222024,\n",
       "          0.2048044 ,  0.43000588],\n",
       "        [-0.5074783 , -0.9639962 , -0.26774272, -0.12327903, -0.2964469 ,\n",
       "         -0.58227634, -0.23632522],\n",
       "        [ 0.51272476, -0.2840126 , -0.28114152, -0.1479955 ,  0.64000267,\n",
       "         -0.19234882,  0.3706996 ],\n",
       "        [ 0.37844536, -0.3906456 ,  0.3685387 ,  0.4110247 , -0.30838025,\n",
       "         -0.9423222 , -0.11587778]], dtype=float32),\n",
       " array([-0.24069789, -0.11390401, -0.13772157,  0.14868464, -0.00578579,\n",
       "        -0.40789896,  0.32691184], dtype=float32),\n",
       " array([[ 0.38118833, -0.86172515, -0.01043829, -0.3467978 , -0.7060736 ,\n",
       "         -0.42440224],\n",
       "        [ 0.26418677, -1.1862917 ,  1.0762783 ,  0.22758216, -1.4434834 ,\n",
       "          1.3355582 ],\n",
       "        [ 0.5876595 , -0.52451134, -0.14380968, -0.13733757, -0.3248806 ,\n",
       "          0.51435   ],\n",
       "        [-0.7046864 , -0.9955347 ,  0.67033243,  0.49837288, -0.557056  ,\n",
       "          0.31035462],\n",
       "        [-0.00953489,  0.3701175 , -0.6417338 , -0.7445571 ,  0.4264044 ,\n",
       "         -0.50995815],\n",
       "        [ 0.8416555 , -1.4970486 , -0.10383607,  0.93355083, -1.0806763 ,\n",
       "         -0.47742242],\n",
       "        [-0.17334907,  0.4874446 , -0.7159909 , -0.66123724,  0.5008825 ,\n",
       "         -0.26166794]], dtype=float32),\n",
       " array([-0.0267207 ,  0.16349882, -0.46309558, -0.10762125,  0.15736172,\n",
       "        -0.06056108], dtype=float32),\n",
       " array([[ 1.1175916],\n",
       "        [-1.1079905],\n",
       "        [ 1.0799133],\n",
       "        [ 1.1226372],\n",
       "        [-1.1875778],\n",
       "        [ 0.760774 ]], dtype=float32),\n",
       " array([-1.3730772], dtype=float32)]"
      ]
     },
     "execution_count": 34,
     "metadata": {},
     "output_type": "execute_result"
    }
   ],
   "source": [
    "#Get the weights\n",
    "classifier.get_weights()"
   ]
  },
  {
   "cell_type": "code",
   "execution_count": null,
   "id": "8b53320e",
   "metadata": {},
   "outputs": [],
   "source": []
  }
 ],
 "metadata": {
  "kernelspec": {
   "display_name": "Python 3 (ipykernel)",
   "language": "python",
   "name": "python3"
  },
  "language_info": {
   "codemirror_mode": {
    "name": "ipython",
    "version": 3
   },
   "file_extension": ".py",
   "mimetype": "text/x-python",
   "name": "python",
   "nbconvert_exporter": "python",
   "pygments_lexer": "ipython3",
   "version": "3.11.3"
  }
 },
 "nbformat": 4,
 "nbformat_minor": 5
}
